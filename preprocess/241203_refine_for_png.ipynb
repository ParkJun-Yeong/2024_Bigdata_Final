{
 "cells": [
  {
   "cell_type": "code",
   "execution_count": 128,
   "metadata": {},
   "outputs": [],
   "source": [
    "import os\n",
    "import shutil"
   ]
  },
  {
   "cell_type": "markdown",
   "metadata": {},
   "source": [
    "[important]\n",
    "fps, fps_png 모두\n",
    "- '2023_0324_0067860_2cc_re' -> '2023_0324_00098151_2cc'\n",
    "- '2023_0324_0067860_2cc_re' -> '2023_0324_00098151_2cc'"
   ]
  },
  {
   "cell_type": "code",
   "execution_count": null,
   "metadata": {},
   "outputs": [],
   "source": [
    "not_matched = []\n",
    "fps = '/mnt/ssd03_4tb/juny/vfss/vfss_cauh/frame_cut_info/frame_per_second'\n",
    "# fpsp = '/mnt/ssd03_4tb/juny/vfss/vfss_cauh/frame_cut_info/frame_per_second_png'\n",
    "fpsp = '/mnt/ssd03_4tb/juny/vfss/vfss_cauh/frame_cut_info/fps_nofolder/frame_per_second_png'\n",
    "\n",
    "\n",
    "fps_dirs = [os.path.join(fps, f) for f in os.listdir(fps)]\n",
    "fpsp_dirs = [os.path.join(fpsp, f) for f in os.listdir(fpsp)]"
   ]
  },
  {
   "cell_type": "code",
   "execution_count": 260,
   "metadata": {},
   "outputs": [],
   "source": [
    "def convert_fps_png(annots, folder=False):\n",
    "    new_annots = []\n",
    "    for annot in annots:\n",
    "        new_name = annot.lower()\n",
    "        new_name = new_name.replace('repeat', 're')\n",
    "        new_name = new_name.replace('re_peat', 're')\n",
    "\n",
    "        if ('re' in new_name) and ('re_' not in new_name) and not folder:\n",
    "            new_name = new_name.replace('re', 're_')\n",
    "        if ('re' in new_name) and ('_re' not in new_name):\n",
    "            new_name = new_name.replace('re', '_re')\n",
    "        new_name = new_name.replace(' ', '')\n",
    "    \n",
    "        # shutil.move(os.path.join(annot_path, annot), os.path.join(annot_path, new_name))\n",
    "            \n",
    "        new_annots.append(new_name)\n",
    "\n",
    "    return new_annots"
   ]
  },
  {
   "cell_type": "code",
   "execution_count": null,
   "metadata": {},
   "outputs": [],
   "source": [
    "def convert(annots):\n",
    "    new_annots = []\n",
    "    for annot in annots:\n",
    "        new_name = annot.lower()\n",
    "        new_name = new_name.replace('repeat', 're')\n",
    "        new_name = new_name.replace('re_peat', 're')\n",
    "        if ('ft' in new_name) and ('re' not in new_name):\n",
    "            tmp = new_name.split('ft')\n",
    "            new_name = tmp[0] + 'ft' + tmp[1][0] + '_' + tmp[1][1:]\n",
    "        if ('2cc' in new_name) and ('re' not in new_name):\n",
    "            tmp = new_name.split('2cc')\n",
    "            new_name = tmp[0] + '2cc' + '_' + tmp[1]\n",
    "        if ('5cc' in new_name) and ('re' not in new_name):\n",
    "            tmp = new_name.split('5cc')\n",
    "            new_name = tmp[0] + '5cc' + '_' + tmp[1]\n",
    "    \n",
    "        if ('sbd' in new_name) and ('re' not in new_name):\n",
    "            tmp = new_name.split('sbd')\n",
    "            new_name = tmp[0] + 'sbd' + '_' + tmp[1]\n",
    "    \n",
    "        if ('nrd' in new_name) and ('re' not in new_name):\n",
    "            tmp = new_name.split('nrd')\n",
    "            new_name = tmp[0] + 'nrd' + '_' + tmp[1]\n",
    "    \n",
    "        if ('dual' in new_name) and ('re' not in new_name):\n",
    "            tmp = new_name.split('dual')\n",
    "            new_name = tmp[0] + 'dual' + '_' + tmp[1]\n",
    "    \n",
    "        if ('cup' in new_name) and ('re' not in new_name):\n",
    "            tmp = new_name.split('cup')\n",
    "            new_name = tmp[0] + 'cup' + '_' + tmp[1]\n",
    "    \n",
    "        if ('re' in new_name) and ('re_' not in new_name):\n",
    "            new_name = new_name.replace('re', 're_')\n",
    "        if ('re' in new_name) and ('_re' not in new_name):\n",
    "            new_name = new_name.replace('re', '_re')\n",
    "    \n",
    "        # shutil.move(os.path.join(annot_path, annot), os.path.join(annot_path, new_name))\n",
    "            \n",
    "        new_annots.append(new_name)\n",
    "\n",
    "    return new_annots"
   ]
  },
  {
   "cell_type": "code",
   "execution_count": 130,
   "metadata": {},
   "outputs": [
    {
     "ename": "SyntaxError",
     "evalue": "invalid syntax (3836208006.py, line 49)",
     "output_type": "error",
     "traceback": [
      "\u001b[0;36m  Cell \u001b[0;32mIn[130], line 49\u001b[0;36m\u001b[0m\n\u001b[0;31m    if file_name !=\u001b[0m\n\u001b[0m                    ^\u001b[0m\n\u001b[0;31mSyntaxError\u001b[0m\u001b[0;31m:\u001b[0m invalid syntax\n"
     ]
    }
   ],
   "source": [
    "# fps에서 important 내용 적용\n",
    "\n",
    "for fps_dir in fps_dirs:\n",
    "    dir_name = fps_dir.split('/')[-1]\n",
    "    for file in os.listdir(fps_dir):\n",
    "        file_name = file.split('.')[0]\n",
    "\n",
    "        new_name = file_name.lower()\n",
    "        if ('ft' in new_name) and ('re' not in new_name):\n",
    "            tmp = new_name.split('ft')\n",
    "            new_name = tmp[0] + 'ft' + tmp[1][0] + '_' + tmp[1][1:]\n",
    "        if ('2cc' in new_name) and ('re' not in new_name):\n",
    "            tmp = new_name.split('2cc')\n",
    "            new_name = tmp[0] + '2cc' + '_' + tmp[1]\n",
    "        if ('5cc' in new_name) and ('re' not in new_name):\n",
    "            tmp = new_name.split('5cc')\n",
    "            new_name = tmp[0] + '5cc' + '_' + tmp[1]\n",
    "\n",
    "        if ('sbd' in new_name) and ('re' not in new_name):\n",
    "            tmp = new_name.split('sbd')\n",
    "            new_name = tmp[0] + 'sbd' + '_' + tmp[1]\n",
    "\n",
    "        if ('nrd' in new_name) and ('re' not in new_name):\n",
    "            tmp = new_name.split('nrd')\n",
    "            new_name = tmp[0] + 'nrd' + '_' + tmp[1]\n",
    "\n",
    "        if ('dual' in new_name) and ('re' not in new_name):\n",
    "            tmp = new_name.split('dual')\n",
    "            new_name = tmp[0] + 'dual' + '_' + tmp[1]\n",
    "\n",
    "        if ('cup' in new_name) and ('re' not in new_name):\n",
    "            tmp = new_name.split('cup')\n",
    "            new_name = tmp[0] + 'cup' + '_' + tmp[1]\n",
    "\n",
    "        if ('re' in new_name) and ('re_' not in new_name):\n",
    "            new_name = new_name.replace('re', 're_')\n",
    "        if ('re' in new_name) and ('_r' not in new_name):\n",
    "            new_name = new_name.replace('re', '_re')\n",
    "\n",
    "        \n",
    "        new_name = file_name.replace('RE', 're')\n",
    "        if ('ft' in file_name) and ('re' not in file_name):\n",
    "            new_name = file_name.split('ft')[0] + 'ft' + file_name.split('ft')[1][0] + '_' + file_name.split('ft')[1][1:]\n",
    "        if ('re' in file_name) and ('re_' not in file_name):\n",
    "            new_name = file_name.replace('re', 're_')\n",
    "        if ('re' in file_name) and ('_re' not in file_name):\n",
    "            new_name = file_name.replace('re', '_re')\n",
    "        \n",
    "        if file_name != \n",
    "        file.replace(dir_name)"
   ]
  },
  {
   "cell_type": "markdown",
   "metadata": {},
   "source": [
    "# fps_png 파일 이름 폴더에 맞춰서 변경"
   ]
  },
  {
   "cell_type": "code",
   "execution_count": 272,
   "metadata": {},
   "outputs": [
    {
     "name": "stdout",
     "output_type": "stream",
     "text": [
      "total changed:  0\n"
     ]
    }
   ],
   "source": [
    "# fps_png 파일 이름 폴더에 맞춰서 변경\n",
    "total_changed = []\n",
    "for fpsp_dir in fpsp_dirs:\n",
    "    dir_name = fpsp_dir.split('/')[-1]\n",
    "    for file in os.listdir(fpsp_dir):\n",
    "        file_name = file.split('.')[0]\n",
    "        extension = file.split('.')[-1]\n",
    "        if dir_name not in file_name:\n",
    "            idx = file_name.split('_')[-1]\n",
    "\n",
    "            modified = file_name.replace('_' + idx, '')\n",
    "\n",
    "            # 1214_ft2_12 이런 경우 대비\n",
    "            if len(modified.split('_')) < 4:\n",
    "                modified = file_name[:-(len(idx)+1)]\n",
    "            new_name = file_name.replace(modified, dir_name)\n",
    "            new_file = new_name + '.' + extension\n",
    "            # shutil.move(os.path.join(fpsp_dir, file), os.path.join(fpsp_dir, new_file))\n",
    "            total_changed.append({os.path.join(fpsp_dir, file): os.path.join(fpsp_dir, new_file)})\n",
    "print(\"total changed: \", len(total_changed))\n"
   ]
  },
  {
   "cell_type": "code",
   "execution_count": 254,
   "metadata": {},
   "outputs": [
    {
     "data": {
      "text/plain": [
       "[{'/mnt/ssd03_4tb/juny/vfss/vfss_cauh/frame_cut_info/frame_per_second_png/2023_0829_01041329_ft2_repeat/2023_0829_01041329_ft2_re_peat_0.tiff': '/mnt/ssd03_4tb/juny/vfss/vfss_cauh/frame_cut_info/frame_per_second_png/2023_0829_01041329_ft2_repeat/2023_0829_01041329_ft2_re_peat_0.tiff'}]"
      ]
     },
     "execution_count": 254,
     "metadata": {},
     "output_type": "execute_result"
    }
   ],
   "source": [
    "total_changed"
   ]
  },
  {
   "cell_type": "code",
   "execution_count": 270,
   "metadata": {},
   "outputs": [],
   "source": [
    "# fps_png 폴더 및 파일 이름 통일\n",
    "fpsp_dirs = [os.path.join(fpsp, f) for f in os.listdir(fpsp)]\n",
    "not_matched_files = []\n",
    "for fpsp_dir in fpsp_dirs:\n",
    "    for file in os.listdir(fpsp_dir):\n",
    "        dir_name = fpsp_dir.split('/')[-1]\n",
    "        new_name = convert_fps_png([file])[0]\n",
    "        if file != new_name:\n",
    "            # shutil.move(os.path.join(fpsp_dir, file), os.path.join(fpsp_dir, new_name))\n",
    "            # print(file, new_name)\n",
    "            not_matched_files.append({file: new_name})\n",
    "        # os.path.join(fpsp_dir, new_name).replace(dir_name+'/', '')\n",
    "\n",
    "# 폴더명 (위에서 안바꿨음...)\n",
    "not_matched = []\n",
    "for fpsp_dir in fpsp_dirs:\n",
    "    dir_name = fpsp_dir.split('/')[-1]\n",
    "    new_name = convert_fps_png([dir_name], folder=True)[0]\n",
    "    if dir_name != new_name:\n",
    "        # shutil.move(fpsp_dir, fpsp_dir.replace(dir_name, new_name))\n",
    "        # print(dir_name, new_name)\n",
    "        not_matched.append(dir_name)\n",
    "        # os.path.join(fpsp_dir, new_name).replace(dir_name+'/', '')\n",
    "\n"
   ]
  },
  {
   "cell_type": "code",
   "execution_count": 271,
   "metadata": {},
   "outputs": [
    {
     "data": {
      "text/plain": [
       "[]"
      ]
     },
     "execution_count": 271,
     "metadata": {},
     "output_type": "execute_result"
    }
   ],
   "source": [
    "not_matched"
   ]
  },
  {
   "cell_type": "markdown",
   "metadata": {},
   "source": [
    "# fps folder 정제 진행 중 중간 copy 진행\n",
    "미리 코드 만들어둔것"
   ]
  },
  {
   "cell_type": "code",
   "execution_count": 195,
   "metadata": {},
   "outputs": [],
   "source": [
    "fpsp = '/mnt/ssd03_4tb/juny/vfss/vfss_cauh/frame_cut_info/frame_per_second_png'\n",
    "fpsp_dirs = [os.path.join(fpsp, d) for d in os.listdir(fpsp)]"
   ]
  },
  {
   "cell_type": "code",
   "execution_count": 196,
   "metadata": {},
   "outputs": [
    {
     "data": {
      "text/plain": [
       "'/mnt/ssd03_4tb/juny/vfss/vfss_cauh/frame_cut_info/frame_per_second_png/2023_0811_01666729_ft2'"
      ]
     },
     "execution_count": 196,
     "metadata": {},
     "output_type": "execute_result"
    }
   ],
   "source": [
    "len(fpsp_dirs)\n",
    "fpsp_dirs[0]"
   ]
  },
  {
   "cell_type": "code",
   "execution_count": 273,
   "metadata": {},
   "outputs": [],
   "source": [
    "# move files and make nofolder\n",
    "# activate when requires\n",
    "import shutil\n",
    "import os\n",
    "\n",
    "# for d in fpsp_cp_dirs:\n",
    "#     shutil.move(d, d.replace('frame_per_second_png/', ''))\n",
    "\n",
    "# for d in fpsp_cp_dirs:\n",
    "#     if os.path.isdir(d):\n",
    "#         shutil.rmtree(d)\n",
    "\n",
    "for d in fpsp_dirs:\n",
    "    for f in os.listdir(d):\n",
    "        f_path = os.path.join(d, f)\n",
    "        dd = d.split('/')[-1]\n",
    "        # print(f_path, f_path.replace('frame_per_second_png', 'fps_nofolder').replace(dd+'/', ''))\n",
    "        shutil.copy(f_path, f_path.replace('frame_per_second_png', 'fps_nofolder').replace(dd+'/', ''))"
   ]
  },
  {
   "cell_type": "code",
   "execution_count": null,
   "metadata": {},
   "outputs": [],
   "source": [
    "shutil.rmtree('/mnt/ssd03_4tb/juny/vfss/vfss_cauh/frame_cut_info/fps_nofolder')"
   ]
  },
  {
   "cell_type": "code",
   "execution_count": 312,
   "metadata": {},
   "outputs": [
    {
     "data": {
      "text/plain": [
       "'2023_0728_00124488_2cc_55.tiff'"
      ]
     },
     "execution_count": 312,
     "metadata": {},
     "output_type": "execute_result"
    }
   ],
   "source": [
    "fpsp_files = os.listdir('/mnt/ssd03_4tb/juny/vfss/vfss_cauh/frame_cut_info/fps_nofolder')\n",
    "fpsp_nofolder = '/mnt/ssd03_4tb/juny/vfss/vfss_cauh/frame_cut_info/fps_nofolder'\n",
    "fpsp_files[0]"
   ]
  },
  {
   "cell_type": "code",
   "execution_count": 308,
   "metadata": {},
   "outputs": [
    {
     "data": {
      "text/plain": [
       "2230"
      ]
     },
     "execution_count": 308,
     "metadata": {},
     "output_type": "execute_result"
    }
   ],
   "source": [
    "annot_path = '/mnt/ssd03_4tb/juny/vfss/vfss_cauh/frame_cut_info/annot.txt'\n",
    "annot_txt = open(annot_path, 'r')\n",
    "annots = [a.strip() for a in annot_txt.readlines()]\n",
    "len(annots)"
   ]
  },
  {
   "cell_type": "code",
   "execution_count": 7,
   "metadata": {},
   "outputs": [],
   "source": [
    "import json\n",
    "\n",
    "annot_json = open('/mnt/ssd03_4tb/juny/vfss/vfss_cauh/frame_cut_info/annot.json', 'r')\n",
    "annots = json.load(annot_json)\n",
    "images = [annots['images'][i]['file_name'] for i in range(len(annots['images']))]"
   ]
  },
  {
   "cell_type": "code",
   "execution_count": null,
   "metadata": {},
   "outputs": [],
   "source": [
    "annotated = []\n",
    "annotated_1 = []\n",
    "not_annotated = []\n",
    "# fpsp_files =[os.path.join('/mnt/ssd03_4tb/juny/vfss/vfss_cauh/frame_cut_info/fps_nofolder', f) for f in os.listdir('/mnt/ssd03_4tb/juny/vfss/vfss_cauh/frame_cut_info/fps_nofolder')]\n",
    "fpsp_files = os.listdir('/mnt/ssd03_4tb/juny/vfss/vfss_cauh/frame_cut_info/fps_nofolder')\n",
    "\n",
    "\n",
    "for f in fpsp_files:\n",
    "    # tmp = f.split('/')[-1].replace('.tiff', '')\n",
    "    # tmp1 = f.split('/')[-1].replace('.tiff', '') + '_1'\n",
    "    tmp = f.replace('.tiff', '')\n",
    "    tmp1 = f.replace('.tiff', '') + '_1'\n",
    "    # if tmp in annots:\n",
    "    if tmp in images:\n",
    "        annotated.append(f)\n",
    "    # if tmp1 in annots:\n",
    "    if tmp1 in images:\n",
    "        annotated_1.append(f)\n",
    "    else:\n",
    "        not_annotated.append(f)\n"
   ]
  },
  {
   "cell_type": "code",
   "execution_count": 313,
   "metadata": {},
   "outputs": [
    {
     "data": {
      "text/plain": [
       "'/mnt/ssd03_4tb/juny/vfss/vfss_cauh/frame_cut_info/fps_png_annotated/2023_0425_01646533_2cc_13.tiff'"
      ]
     },
     "execution_count": 313,
     "metadata": {},
     "output_type": "execute_result"
    }
   ],
   "source": [
    "os.path.join(fpsp_nofolder, annotated[0]).replace('fps_nofolder', 'fps_png_annotated')"
   ]
  },
  {
   "cell_type": "code",
   "execution_count": 314,
   "metadata": {},
   "outputs": [],
   "source": [
    "for a in annotated + annotated_1:\n",
    "    shutil.copy(os.path.join(fpsp_nofolder, a), os.path.join(fpsp_nofolder, a).replace('fps_nofolder', 'fps_png_annotated'))\n"
   ]
  },
  {
   "cell_type": "code",
   "execution_count": 281,
   "metadata": {},
   "outputs": [
    {
     "data": {
      "text/plain": [
       "[2]"
      ]
     },
     "execution_count": 281,
     "metadata": {},
     "output_type": "execute_result"
    }
   ],
   "source": [
    "tmp = [1,2]\n",
    "tmp.pop(tmp.index(1))\n",
    "tmp"
   ]
  },
  {
   "cell_type": "code",
   "execution_count": 305,
   "metadata": {},
   "outputs": [],
   "source": [
    "annots_cp = annots\n",
    "for a in annotated:\n",
    "    annots_cp.pop(annots_cp.index(a.replace('.tiff', '')))\n",
    "# len(not_annotated)\n",
    "for a in annotated_1:\n",
    "    annots_cp.pop(annots_cp.index(a.replace('.tiff', '_1')))"
   ]
  },
  {
   "cell_type": "code",
   "execution_count": 306,
   "metadata": {},
   "outputs": [
    {
     "data": {
      "text/plain": [
       "['2023_0324_00678760_2cc_re_34',\n",
       " '2023_0425_00862076_2cc_215',\n",
       " '2023_0526_00273905_5cc_(2)5',\n",
       " '2023_0526_00273905_5cc_(2)7']"
      ]
     },
     "execution_count": 306,
     "metadata": {},
     "output_type": "execute_result"
    }
   ],
   "source": [
    "annots_cp"
   ]
  },
  {
   "cell_type": "code",
   "execution_count": 310,
   "metadata": {},
   "outputs": [
    {
     "data": {
      "text/plain": [
       "2230"
      ]
     },
     "execution_count": 310,
     "metadata": {},
     "output_type": "execute_result"
    }
   ],
   "source": [
    "len(annotated) + len(annotated_1)"
   ]
  },
  {
   "cell_type": "code",
   "execution_count": null,
   "metadata": {},
   "outputs": [],
   "source": []
  },
  {
   "cell_type": "code",
   "execution_count": null,
   "metadata": {},
   "outputs": [],
   "source": []
  },
  {
   "cell_type": "code",
   "execution_count": 6,
   "metadata": {},
   "outputs": [
    {
     "data": {
      "text/plain": [
       "'2023_0307_00709654_ft3_27.tiff'"
      ]
     },
     "execution_count": 6,
     "metadata": {},
     "output_type": "execute_result"
    }
   ],
   "source": [
    "images[0]"
   ]
  },
  {
   "cell_type": "code",
   "execution_count": null,
   "metadata": {},
   "outputs": [],
   "source": []
  }
 ],
 "metadata": {
  "kernelspec": {
   "display_name": "SAMed",
   "language": "python",
   "name": "python3"
  },
  "language_info": {
   "codemirror_mode": {
    "name": "ipython",
    "version": 3
   },
   "file_extension": ".py",
   "mimetype": "text/x-python",
   "name": "python",
   "nbconvert_exporter": "python",
   "pygments_lexer": "ipython3",
   "version": "3.10.15"
  }
 },
 "nbformat": 4,
 "nbformat_minor": 2
}
